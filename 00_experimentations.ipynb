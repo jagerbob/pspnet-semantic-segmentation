{
 "cells": [
  {
   "cell_type": "code",
   "execution_count": null,
   "outputs": [],
   "source": [
    "train_folder=\"./data/cityscapes_data/train/\"\n",
    "valid_folder=\"./data/cityscapes_data/val/\"\n",
    "\n",
    "def get_images_masks(path):\n",
    "    names=os.listdir(path)\n",
    "    img_g,img_m=[],[]\n",
    "    for name in names:\n",
    "        img=cv2.imread(path+name)\n",
    "        img=cv2.normalize(img,None,0,1,cv2.NORM_MINMAX,cv2.CV_32F)\n",
    "        img=img[:,:,::-1]\n",
    "        img_g.append(img[:,:256])\n",
    "        img_m.append(img[:,256:]) # np.reshape(img[:,256:],(256*256*3))\n",
    "        del img\n",
    "    del names\n",
    "    return img_g,img_m\n",
    "\n",
    "train_imgs,train_masks=get_images_masks(train_folder)\n",
    "valid_imgs,valid_masks=get_images_masks(valid_folder)"
   ],
   "metadata": {
    "collapsed": false
   },
   "id": "70a0141ae85af39e"
  },
  {
   "cell_type": "code",
   "execution_count": null,
   "outputs": [],
   "source": [],
   "metadata": {
    "collapsed": false
   },
   "id": "67c0df523a0bf35d"
  },
  {
   "cell_type": "code",
   "execution_count": null,
   "outputs": [],
   "source": [
    "train_data = datasets.VOCSegmentation(root=\"./data\",\n",
    "                            year=\"2012\",\n",
    "                            image_set=\"train\",\n",
    "                            download=\"true\",\n",
    "                            transform=transforms.ToTensor())\n",
    "\n",
    "test_data = datasets.VOCSegmentation(root=\"./data\",\n",
    "                                year=\"2012\",\n",
    "                                image_set=\"val\",\n",
    "                                download=\"true\",\n",
    "                                transform=transforms.ToTensor(),\n",
    "                                target_transform=transforms.ToTensor())"
   ],
   "metadata": {
    "collapsed": false
   },
   "id": "3ff320f88e1250c0"
  }
 ],
 "metadata": {
  "kernelspec": {
   "display_name": "Python 3",
   "language": "python",
   "name": "python3"
  },
  "language_info": {
   "codemirror_mode": {
    "name": "ipython",
    "version": 2
   },
   "file_extension": ".py",
   "mimetype": "text/x-python",
   "name": "python",
   "nbconvert_exporter": "python",
   "pygments_lexer": "ipython2",
   "version": "2.7.6"
  }
 },
 "nbformat": 4,
 "nbformat_minor": 5
}
