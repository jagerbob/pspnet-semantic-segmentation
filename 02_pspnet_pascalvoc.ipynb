{
 "cells": [
  {
   "cell_type": "code",
   "execution_count": 237,
   "outputs": [],
   "source": [
    "import cv2\n",
    "import torch\n",
    "import numpy as np\n",
    "import albumentations as A\n",
    "import torch.nn.functional as F\n",
    "import matplotlib.pyplot as plt\n",
    "\n",
    "from torch import nn\n",
    "from tqdm.auto import tqdm\n",
    "from torchinfo import summary\n",
    "from torchvision import models\n",
    "from tqdm.notebook import tqdm\n",
    "from torchvision import transforms as T\n",
    "from torch.utils.data import DataLoader\n",
    "from torchvision.datasets import VOCSegmentation\n",
    "\n",
    "device = \"cuda\" if torch.cuda.is_available() else \"cpu\""
   ],
   "metadata": {
    "collapsed": false,
    "ExecuteTime": {
     "end_time": "2023-09-04T17:31:58.514803800Z",
     "start_time": "2023-09-04T17:31:58.342333600Z"
    }
   },
   "id": "56c5358cbf22f148"
  },
  {
   "cell_type": "code",
   "execution_count": 238,
   "outputs": [],
   "source": [
    "VOC_CLASSES = [\n",
    "    \"background\", \"aeroplane\", \"bicycle\", \"bird\", \"boat\", \"bottle\", \"bus\",\n",
    "    \"car\", \"cat\", \"chair\", \"cow\", \"diningtable\", \"dog\", \"horse\", \"motorbike\",\n",
    "    \"person\", \"potted plant\", \"sheep\", \"sofa\", \"train\", \"tv/monitor\"\n",
    "]\n",
    "\n",
    "VOC_COLORMAP = [\n",
    "    [0, 0, 0], [128, 0, 0], [0, 128, 0], [128, 128, 0], [0, 0, 128],\n",
    "    [128, 0, 128], [0, 128, 128], [128, 128, 128], [64, 0, 0], [192, 0, 0],\n",
    "    [64, 128, 0], [192, 128, 0], [64, 0, 128], [192, 0, 128],\n",
    "    [64, 128, 128], [192, 128, 128], [0, 64, 0], [128, 64, 0], [0, 192, 0],\n",
    "    [128, 192, 0], [0, 64, 128]\n",
    "]\n",
    "\n",
    "class PascalVOCSearchDataset(VOCSegmentation):\n",
    "    def __init__(self, root=\"~/data/pascal_voc\", image_set=\"train\", download=False, transform=None):\n",
    "        super().__init__(root=root, image_set=image_set, download=download, transform=transform)\n",
    "\n",
    "    def __getitem__(self, index):\n",
    "        image = cv2.imread(self.images[index])\n",
    "        image = cv2.cvtColor(image, cv2.COLOR_BGR2RGB)\n",
    "        mask = cv2.imread(self.masks[index], cv2.IMREAD_GRAYSCALE)\n",
    "        a = self.transform(image=image, mask=mask)\n",
    "        return T.ToTensor()(a['image']), torch.from_numpy(a['mask']).long()"
   ],
   "metadata": {
    "collapsed": false,
    "ExecuteTime": {
     "end_time": "2023-09-04T17:31:58.515804600Z",
     "start_time": "2023-09-04T17:31:58.349408500Z"
    }
   },
   "id": "bec471d7163b728b"
  },
  {
   "cell_type": "code",
   "execution_count": 239,
   "outputs": [],
   "source": [
    "data_transform = A.Compose([A.Resize(256, 256)])\n",
    "\n",
    "train_set = PascalVOCSearchDataset(root=\"./data\", image_set=\"train\", transform=data_transform)\n",
    "val_set = PascalVOCSearchDataset(root=\"./data\", image_set=\"trainval\", transform=data_transform)\n",
    "test_set = PascalVOCSearchDataset(root=\"./data\", image_set=\"val\")\n",
    "\n",
    "train_loader = DataLoader(train_set, batch_size=4, shuffle=True, drop_last=True)\n",
    "val_loader = DataLoader(val_set, batch_size=4, shuffle=True, drop_last=True)\n",
    "test_loader = DataLoader(test_set, batch_size=4, shuffle=True, drop_last=True)"
   ],
   "metadata": {
    "collapsed": false,
    "ExecuteTime": {
     "end_time": "2023-09-04T17:31:58.589004Z",
     "start_time": "2023-09-04T17:31:58.359083800Z"
    }
   },
   "id": "5737d17ad30dcce6"
  },
  {
   "cell_type": "code",
   "execution_count": 240,
   "outputs": [],
   "source": [
    "class CustomResNet(nn.Module):\n",
    "    def __init__(self):\n",
    "        super().__init__()\n",
    "        self.resnet = models.resnet50(pretrained=True)\n",
    "\n",
    "    def forward(self, x):\n",
    "        x = self.resnet.conv1(x)\n",
    "        x = self.resnet.bn1(x)\n",
    "        x = self.resnet.relu(x)\n",
    "        x = self.resnet.maxpool(x)\n",
    "\n",
    "        auxiliary_x = self.resnet.layer1(x)\n",
    "        x = self.resnet.layer2(auxiliary_x)\n",
    "\n",
    "        return x, auxiliary_x"
   ],
   "metadata": {
    "collapsed": false,
    "ExecuteTime": {
     "end_time": "2023-09-04T17:31:58.589984300Z",
     "start_time": "2023-09-04T17:31:58.387569700Z"
    }
   },
   "id": "f5c2eaf53441ed2c"
  },
  {
   "cell_type": "code",
   "execution_count": 241,
   "outputs": [],
   "source": [
    "class PyramidPoolingModule(nn.Module):\n",
    "\n",
    "    def __init__(self, pools, in_channels, input_shape):\n",
    "        super().__init__()\n",
    "        self.input_shape = input_shape\n",
    "        self.pooling_layers = nn.ModuleList([\n",
    "            nn.Sequential(\n",
    "                nn.AdaptiveAvgPool2d(output_size=p), # Pool\n",
    "                nn.Conv2d(in_channels, int(in_channels / len(pools)), 1, 1, 0, 1, bias=False),\n",
    "                nn.Dropout2d()\n",
    "            )\n",
    "            for p in pools\n",
    "        ])\n",
    "\n",
    "    def forward(self, x):\n",
    "        outputs = [x]\n",
    "        for pooling_layer in self.pooling_layers:\n",
    "            layer_output = pooling_layer(x)\n",
    "            outputs.append(F.interpolate(layer_output, size=self.input_shape, mode=\"bilinear\", align_corners=True))\n",
    "\n",
    "        return torch.cat(outputs, dim=1)"
   ],
   "metadata": {
    "collapsed": false,
    "ExecuteTime": {
     "end_time": "2023-09-04T17:31:58.589984300Z",
     "start_time": "2023-09-04T17:31:58.393082200Z"
    }
   },
   "id": "1198926f6748233e"
  },
  {
   "cell_type": "code",
   "execution_count": 242,
   "outputs": [],
   "source": [
    "class SegmentationClassifier(nn.Module):\n",
    "\n",
    "    def __init__(self, in_channels, out_channels, scale_factor):\n",
    "        super().__init__()\n",
    "        self.segmentation = nn.Sequential(\n",
    "            nn.Conv2d(in_channels, out_channels, kernel_size=1),\n",
    "            nn.Dropout2d(),\n",
    "            nn.UpsamplingBilinear2d(scale_factor=scale_factor)\n",
    "        )\n",
    "\n",
    "    def forward(self, x):\n",
    "        return self.segmentation(x)"
   ],
   "metadata": {
    "collapsed": false,
    "ExecuteTime": {
     "end_time": "2023-09-04T17:31:58.589984300Z",
     "start_time": "2023-09-04T17:31:58.399946200Z"
    }
   },
   "id": "709e4616a4e96421"
  },
  {
   "cell_type": "code",
   "execution_count": 243,
   "outputs": [],
   "source": [
    "class PSPNet(nn.Module):\n",
    "    def __init__(self, input_shape, n_classes):\n",
    "        super().__init__()\n",
    "        self.feature_extractor = CustomResNet()\n",
    "        self.pyramid_pooling = PyramidPoolingModule(input_shape=(int(input_shape[0] / 8), int(input_shape[1] / 8)), in_channels=512, pools = (6, 3, 2, 1))\n",
    "        self.classifier = SegmentationClassifier(in_channels=1024, out_channels=n_classes, scale_factor=8)\n",
    "        self.aux_classifier = SegmentationClassifier(in_channels=256, out_channels=n_classes, scale_factor=4)\n",
    "\n",
    "    def forward(self, x):\n",
    "        encoder_outputs, encoder_auxiliary = self.feature_extractor(x)\n",
    "        pyramid_outputs = self.pyramid_pooling(encoder_outputs)\n",
    "        return self.classifier(pyramid_outputs), self.aux_classifier(encoder_auxiliary)"
   ],
   "metadata": {
    "collapsed": false,
    "ExecuteTime": {
     "end_time": "2023-09-04T17:31:58.589984300Z",
     "start_time": "2023-09-04T17:31:58.405816600Z"
    }
   },
   "id": "cbe247cfb6e390f7"
  },
  {
   "cell_type": "code",
   "execution_count": 244,
   "outputs": [
    {
     "name": "stderr",
     "output_type": "stream",
     "text": [
      "C:\\Users\\ahou\\AppData\\Local\\Programs\\Python\\Python311\\Lib\\site-packages\\torchvision\\models\\_utils.py:208: UserWarning: The parameter 'pretrained' is deprecated since 0.13 and may be removed in the future, please use 'weights' instead.\n",
      "  warnings.warn(\n",
      "C:\\Users\\ahou\\AppData\\Local\\Programs\\Python\\Python311\\Lib\\site-packages\\torchvision\\models\\_utils.py:223: UserWarning: Arguments other than a weight enum or `None` for 'weights' are deprecated since 0.13 and may be removed in the future. The current behavior is equivalent to passing `weights=ResNet50_Weights.IMAGENET1K_V1`. You can also use `weights=ResNet50_Weights.DEFAULT` to get the most up-to-date weights.\n",
      "  warnings.warn(msg)\n"
     ]
    },
    {
     "data": {
      "text/plain": "====================================================================================================\nLayer (type:depth-idx)                             Output Shape              Param #\n====================================================================================================\nPSPNet                                             [3, 21, 256, 256]         --\n├─CustomResNet: 1-1                                [3, 512, 32, 32]          --\n│    └─ResNet: 2-1                                 --                        24,112,104\n│    │    └─Conv2d: 3-1                            [3, 64, 128, 128]         9,408\n│    │    └─BatchNorm2d: 3-2                       [3, 64, 128, 128]         128\n│    │    └─ReLU: 3-3                              [3, 64, 128, 128]         --\n│    │    └─MaxPool2d: 3-4                         [3, 64, 64, 64]           --\n│    │    └─Sequential: 3-5                        [3, 256, 64, 64]          215,808\n│    │    └─Sequential: 3-6                        [3, 512, 32, 32]          1,219,584\n├─PyramidPoolingModule: 1-2                        [3, 1024, 32, 32]         --\n│    └─ModuleList: 2-2                             --                        --\n│    │    └─Sequential: 3-7                        [3, 128, 6, 6]            65,536\n│    │    └─Sequential: 3-8                        [3, 128, 3, 3]            65,536\n│    │    └─Sequential: 3-9                        [3, 128, 2, 2]            65,536\n│    │    └─Sequential: 3-10                       [3, 128, 1, 1]            65,536\n├─SegmentationClassifier: 1-3                      [3, 21, 256, 256]         --\n│    └─Sequential: 2-3                             [3, 21, 256, 256]         --\n│    │    └─Conv2d: 3-11                           [3, 21, 32, 32]           21,525\n│    │    └─Dropout2d: 3-12                        [3, 21, 32, 32]           --\n│    │    └─UpsamplingBilinear2d: 3-13             [3, 21, 256, 256]         --\n├─SegmentationClassifier: 1-4                      [3, 21, 256, 256]         --\n│    └─Sequential: 2-4                             [3, 21, 256, 256]         --\n│    │    └─Conv2d: 3-14                           [3, 21, 64, 64]           5,397\n│    │    └─Dropout2d: 3-15                        [3, 21, 64, 64]           --\n│    │    └─UpsamplingBilinear2d: 3-16             [3, 21, 256, 256]         --\n====================================================================================================\nTotal params: 25,846,098\nTrainable params: 25,846,098\nNon-trainable params: 0\nTotal mult-adds (Units.GIGABYTES): 7.25\n====================================================================================================\nInput size (MB): 2.36\nForward/backward pass size (MB): 524.92\nParams size (MB): 6.94\nEstimated Total Size (MB): 534.22\n===================================================================================================="
     },
     "execution_count": 244,
     "metadata": {},
     "output_type": "execute_result"
    }
   ],
   "source": [
    "model = PSPNet(input_shape=(256,256), n_classes=21)\n",
    "summary(model, input_size=(3, 3, 256, 256))"
   ],
   "metadata": {
    "collapsed": false,
    "ExecuteTime": {
     "end_time": "2023-09-04T17:31:58.851168800Z",
     "start_time": "2023-09-04T17:31:58.413454800Z"
    }
   },
   "id": "45669df22f16faab"
  },
  {
   "cell_type": "code",
   "execution_count": 245,
   "outputs": [],
   "source": [
    "class DeepSupervisionLoss(nn.Module):\n",
    "    def __init__(self, alpha):\n",
    "        super().__init__()\n",
    "        self.alpha = alpha\n",
    "        self.cross_entropy = nn.CrossEntropyLoss()\n",
    "\n",
    "    def forward(self, output, aux_output, target):\n",
    "        loss = self.cross_entropy(output, target)\n",
    "        aux_loss = self.cross_entropy(aux_output, target)\n",
    "        return loss + self.alpha * aux_loss"
   ],
   "metadata": {
    "collapsed": false,
    "ExecuteTime": {
     "end_time": "2023-09-04T17:31:58.854178400Z",
     "start_time": "2023-09-04T17:31:58.852182900Z"
    }
   },
   "id": "f3b8ba8e537f799c"
  },
  {
   "cell_type": "code",
   "execution_count": 246,
   "outputs": [],
   "source": [
    "criterion = DeepSupervisionLoss(alpha=0.4)\n",
    "optimizer = torch.optim.Adam(params=model.parameters(), lr=0.001)"
   ],
   "metadata": {
    "collapsed": false,
    "ExecuteTime": {
     "end_time": "2023-09-04T17:31:58.863824Z",
     "start_time": "2023-09-04T17:31:58.856177600Z"
    }
   },
   "id": "5d4d77b977c194e9"
  },
  {
   "cell_type": "code",
   "execution_count": 247,
   "outputs": [],
   "source": [
    "def fit(epochs, model, train_loader, val_loader, criterion, optimizer):\n",
    "    model.to(device)\n",
    "    train_loss = []\n",
    "    val_loss = []\n",
    "    for e in tqdm(range(epochs)):\n",
    "        model.train()\n",
    "        epoch_train_loss = []\n",
    "        for i, (img, mask) in enumerate(train_loader):\n",
    "            img = img.to(device)\n",
    "            mask = mask.to(device)\n",
    "            output, aux_output = model(img)\n",
    "            loss = criterion(output, aux_output, mask)\n",
    "            epoch_train_loss.append(loss.cpu().detach().numpy())\n",
    "            optimizer.zero_grad()\n",
    "            loss.backward()\n",
    "            optimizer.step()\n",
    "\n",
    "        model.eval()\n",
    "        epoch_val_loss = []\n",
    "        with torch.inference_mode():\n",
    "            for i, (img, mask) in enumerate(val_loader):\n",
    "                img = img.to(device)\n",
    "                mask = mask\n",
    "                mask = mask.to(device)\n",
    "                output, aux_output = model(img)\n",
    "                loss = criterion(output, aux_output, mask)\n",
    "                epoch_val_loss.append(loss.cpu().detach().numpy())\n",
    "\n",
    "        train_loss.append(np.mean(epoch_train_loss))\n",
    "        val_loss.append(np.mean(epoch_val_loss))\n",
    "\n",
    "        print(f\"Epoch {e} | Loss: {np.mean(epoch_train_loss)} | Val Loss: {np.mean(epoch_val_loss)}\")\n",
    "\n",
    "    return train_loss, val_loss"
   ],
   "metadata": {
    "collapsed": false,
    "ExecuteTime": {
     "end_time": "2023-09-04T17:31:58.882708600Z",
     "start_time": "2023-09-04T17:31:58.861782700Z"
    }
   },
   "id": "bca17fc7ff26be26"
  },
  {
   "cell_type": "code",
   "execution_count": 420,
   "outputs": [
    {
     "data": {
      "text/plain": "  0%|          | 0/300 [00:00<?, ?it/s]",
      "application/vnd.jupyter.widget-view+json": {
       "version_major": 2,
       "version_minor": 0,
       "model_id": "659e22ef026a47f9afc5f05fc48fc2b8"
      }
     },
     "metadata": {},
     "output_type": "display_data"
    },
    {
     "name": "stdout",
     "output_type": "stream",
     "text": [
      "Epoch 0 | Loss: 1.9593267440795898 | Val Loss: 0.9435562491416931\n",
      "Epoch 1 | Loss: 1.9590837955474854 | Val Loss: 0.9625427722930908\n",
      "Epoch 2 | Loss: 1.9416347742080688 | Val Loss: 0.9526115655899048\n",
      "Epoch 3 | Loss: 1.9289146661758423 | Val Loss: 0.9345445036888123\n",
      "Epoch 4 | Loss: 1.973470687866211 | Val Loss: 0.8871681094169617\n",
      "Epoch 5 | Loss: 1.9240355491638184 | Val Loss: 0.9269015192985535\n",
      "Epoch 6 | Loss: 1.9650907516479492 | Val Loss: 0.9376391172409058\n",
      "Epoch 7 | Loss: 1.9041271209716797 | Val Loss: 0.9349367022514343\n",
      "Epoch 8 | Loss: 1.9246231317520142 | Val Loss: 0.937658429145813\n",
      "Epoch 9 | Loss: 1.9587979316711426 | Val Loss: 0.8961210250854492\n",
      "Epoch 10 | Loss: 1.9561944007873535 | Val Loss: 0.9356803297996521\n",
      "Epoch 11 | Loss: 1.921317219734192 | Val Loss: 0.9050655961036682\n",
      "Epoch 12 | Loss: 1.9869868755340576 | Val Loss: 0.9132905602455139\n",
      "Epoch 13 | Loss: 1.947787880897522 | Val Loss: 0.9428496360778809\n",
      "Epoch 14 | Loss: 1.994519829750061 | Val Loss: 0.9135419130325317\n",
      "Epoch 15 | Loss: 1.9431127309799194 | Val Loss: 0.9554334282875061\n",
      "Epoch 16 | Loss: 2.0039830207824707 | Val Loss: 0.919470489025116\n",
      "Epoch 17 | Loss: 1.9648387432098389 | Val Loss: 0.9022406935691833\n",
      "Epoch 18 | Loss: 1.9820716381072998 | Val Loss: 0.9350733757019043\n",
      "Epoch 19 | Loss: 1.9557491540908813 | Val Loss: 0.9112777709960938\n",
      "Epoch 20 | Loss: 1.958437442779541 | Val Loss: 0.9297153949737549\n",
      "Epoch 21 | Loss: 2.008892774581909 | Val Loss: 0.8974566459655762\n",
      "Epoch 22 | Loss: 1.8978947401046753 | Val Loss: 0.9060498476028442\n",
      "Epoch 23 | Loss: 1.9731329679489136 | Val Loss: 0.9368859529495239\n",
      "Epoch 24 | Loss: 1.9603811502456665 | Val Loss: 0.9466720223426819\n",
      "Epoch 25 | Loss: 1.9900717735290527 | Val Loss: 0.9070858955383301\n",
      "Epoch 26 | Loss: 1.993869423866272 | Val Loss: 0.9215770959854126\n",
      "Epoch 27 | Loss: 1.9429131746292114 | Val Loss: 0.9052259922027588\n",
      "Epoch 28 | Loss: 1.9529058933258057 | Val Loss: 0.9311075806617737\n",
      "Epoch 29 | Loss: 1.911124587059021 | Val Loss: 0.9094293713569641\n",
      "Epoch 30 | Loss: 1.9691869020462036 | Val Loss: 0.9817073345184326\n",
      "Epoch 31 | Loss: 1.9438663721084595 | Val Loss: 0.9147573709487915\n",
      "Epoch 32 | Loss: 1.9683637619018555 | Val Loss: 0.9646953344345093\n",
      "Epoch 33 | Loss: 1.950791597366333 | Val Loss: 0.9098438620567322\n",
      "Epoch 34 | Loss: 1.94789719581604 | Val Loss: 1.0154006481170654\n",
      "Epoch 35 | Loss: 1.9707034826278687 | Val Loss: 0.913073718547821\n",
      "Epoch 36 | Loss: 1.9445500373840332 | Val Loss: 0.9523786902427673\n",
      "Epoch 37 | Loss: 1.9626129865646362 | Val Loss: 0.9095264673233032\n",
      "Epoch 38 | Loss: 1.9611409902572632 | Val Loss: 0.9290469884872437\n",
      "Epoch 39 | Loss: 1.9305765628814697 | Val Loss: 0.9145107269287109\n",
      "Epoch 40 | Loss: 1.9211924076080322 | Val Loss: 0.9048066139221191\n",
      "Epoch 41 | Loss: 1.9555515050888062 | Val Loss: 0.9213206768035889\n",
      "Epoch 42 | Loss: 1.9832940101623535 | Val Loss: 0.9388585090637207\n",
      "Epoch 43 | Loss: 1.9558004140853882 | Val Loss: 0.9355602264404297\n",
      "Epoch 44 | Loss: 1.9567064046859741 | Val Loss: 0.9452545046806335\n",
      "Epoch 45 | Loss: 1.948488712310791 | Val Loss: 0.9270753860473633\n",
      "Epoch 46 | Loss: 1.9771058559417725 | Val Loss: 0.924278736114502\n",
      "Epoch 47 | Loss: 1.9587326049804688 | Val Loss: 0.9277677536010742\n",
      "Epoch 48 | Loss: 1.9199342727661133 | Val Loss: 0.9324640035629272\n",
      "Epoch 49 | Loss: 1.933923602104187 | Val Loss: 0.9438828825950623\n",
      "Epoch 50 | Loss: 1.9216442108154297 | Val Loss: 0.901821494102478\n",
      "Epoch 51 | Loss: 1.9487948417663574 | Val Loss: 0.9363332986831665\n",
      "Epoch 52 | Loss: 1.9748965501785278 | Val Loss: 0.9541085958480835\n",
      "Epoch 53 | Loss: 1.9445897340774536 | Val Loss: 0.9360148906707764\n",
      "Epoch 54 | Loss: 1.933321237564087 | Val Loss: 0.9505085349082947\n",
      "Epoch 55 | Loss: 1.9402042627334595 | Val Loss: 0.9309619665145874\n",
      "Epoch 56 | Loss: 1.9866873025894165 | Val Loss: 0.9329894185066223\n",
      "Epoch 57 | Loss: 1.946560025215149 | Val Loss: 0.9476984143257141\n",
      "Epoch 58 | Loss: 1.9239325523376465 | Val Loss: 0.9361167550086975\n",
      "Epoch 59 | Loss: 1.9160953760147095 | Val Loss: 0.9025274515151978\n",
      "Epoch 60 | Loss: 1.9488643407821655 | Val Loss: 0.9471229910850525\n",
      "Epoch 61 | Loss: 1.9538506269454956 | Val Loss: 0.9443004131317139\n",
      "Epoch 62 | Loss: 1.9398959875106812 | Val Loss: 0.944184422492981\n",
      "Epoch 63 | Loss: 1.9604010581970215 | Val Loss: 0.91987544298172\n",
      "Epoch 64 | Loss: 1.97091805934906 | Val Loss: 0.9363963603973389\n",
      "Epoch 65 | Loss: 1.9428502321243286 | Val Loss: 0.944921612739563\n",
      "Epoch 66 | Loss: 1.9376083612442017 | Val Loss: 0.9515583515167236\n",
      "Epoch 67 | Loss: 1.9301791191101074 | Val Loss: 0.9707156419754028\n",
      "Epoch 68 | Loss: 1.9079138040542603 | Val Loss: 0.9141235947608948\n",
      "Epoch 69 | Loss: 1.9160465002059937 | Val Loss: 0.9147683382034302\n",
      "Epoch 70 | Loss: 1.9449149370193481 | Val Loss: 0.9129905104637146\n",
      "Epoch 71 | Loss: 1.892448902130127 | Val Loss: 0.9188945293426514\n",
      "Epoch 72 | Loss: 2.002692937850952 | Val Loss: 0.9126964807510376\n",
      "Epoch 73 | Loss: 1.8988443613052368 | Val Loss: 0.9534363150596619\n",
      "Epoch 74 | Loss: 1.9543683528900146 | Val Loss: 0.9183785319328308\n",
      "Epoch 75 | Loss: 1.9377634525299072 | Val Loss: 0.9413573145866394\n",
      "Epoch 76 | Loss: 1.9466878175735474 | Val Loss: 0.9343859553337097\n",
      "Epoch 77 | Loss: 1.9733943939208984 | Val Loss: 0.9233213067054749\n",
      "Epoch 78 | Loss: 1.9689198732376099 | Val Loss: 1.0103724002838135\n",
      "Epoch 79 | Loss: 1.9363328218460083 | Val Loss: 0.9427622556686401\n",
      "Epoch 80 | Loss: 1.9492924213409424 | Val Loss: 0.9544165730476379\n",
      "Epoch 81 | Loss: 1.9499281644821167 | Val Loss: 0.9665793180465698\n",
      "Epoch 82 | Loss: 2.0083742141723633 | Val Loss: 0.891484260559082\n",
      "Epoch 83 | Loss: 1.9262721538543701 | Val Loss: 0.9173779487609863\n",
      "Epoch 84 | Loss: 1.9444434642791748 | Val Loss: 0.9184665679931641\n",
      "Epoch 85 | Loss: 1.9106895923614502 | Val Loss: 0.9613490700721741\n",
      "Epoch 86 | Loss: 1.9437432289123535 | Val Loss: 0.9221599102020264\n",
      "Epoch 87 | Loss: 1.9673662185668945 | Val Loss: 0.9376445412635803\n",
      "Epoch 88 | Loss: 1.914638876914978 | Val Loss: 0.9203625321388245\n",
      "Epoch 89 | Loss: 1.9863507747650146 | Val Loss: 0.9283084273338318\n",
      "Epoch 90 | Loss: 1.978440284729004 | Val Loss: 0.9257886409759521\n",
      "Epoch 91 | Loss: 1.8970850706100464 | Val Loss: 0.8952839374542236\n",
      "Epoch 92 | Loss: 1.9288634061813354 | Val Loss: 0.9467595815658569\n",
      "Epoch 93 | Loss: 1.9378525018692017 | Val Loss: 0.9312820434570312\n",
      "Epoch 94 | Loss: 1.9531196355819702 | Val Loss: 0.9070209860801697\n",
      "Epoch 95 | Loss: 1.927329659461975 | Val Loss: 0.982623279094696\n",
      "Epoch 96 | Loss: 1.935667634010315 | Val Loss: 0.9304376244544983\n",
      "Epoch 97 | Loss: 1.9366819858551025 | Val Loss: 0.9292441606521606\n",
      "Epoch 98 | Loss: 1.986219048500061 | Val Loss: 0.9208633899688721\n",
      "Epoch 99 | Loss: 1.9121932983398438 | Val Loss: 0.9518360495567322\n",
      "Epoch 100 | Loss: 1.9002259969711304 | Val Loss: 0.9428032040596008\n",
      "Epoch 101 | Loss: 1.9519315958023071 | Val Loss: 0.9603186249732971\n",
      "Epoch 102 | Loss: 1.9629281759262085 | Val Loss: 0.9588123559951782\n",
      "Epoch 103 | Loss: 1.8903964757919312 | Val Loss: 0.9259017109870911\n",
      "Epoch 104 | Loss: 1.9480741024017334 | Val Loss: 0.9624348878860474\n",
      "Epoch 105 | Loss: 1.957908034324646 | Val Loss: 0.9327313899993896\n",
      "Epoch 106 | Loss: 1.963352084159851 | Val Loss: 0.9399303197860718\n",
      "Epoch 107 | Loss: 1.9085090160369873 | Val Loss: 0.9417600631713867\n",
      "Epoch 108 | Loss: 1.9224661588668823 | Val Loss: 0.91935133934021\n",
      "Epoch 109 | Loss: 1.9668877124786377 | Val Loss: 0.9147360920906067\n",
      "Epoch 110 | Loss: 1.9002702236175537 | Val Loss: 0.9246943593025208\n",
      "Epoch 111 | Loss: 1.919980525970459 | Val Loss: 0.9369739294052124\n",
      "Epoch 112 | Loss: 1.9869334697723389 | Val Loss: 0.9350206851959229\n",
      "Epoch 113 | Loss: 1.93422532081604 | Val Loss: 0.916887640953064\n",
      "Epoch 114 | Loss: 1.9601119756698608 | Val Loss: 0.915557861328125\n",
      "Epoch 115 | Loss: 1.974819540977478 | Val Loss: 0.9231827259063721\n",
      "Epoch 116 | Loss: 1.9794561862945557 | Val Loss: 0.9177227020263672\n",
      "Epoch 117 | Loss: 1.9181865453720093 | Val Loss: 0.9356370568275452\n",
      "Epoch 118 | Loss: 1.8903207778930664 | Val Loss: 0.9455040097236633\n",
      "Epoch 119 | Loss: 1.8653801679611206 | Val Loss: 0.9255455136299133\n",
      "Epoch 120 | Loss: 1.9389277696609497 | Val Loss: 0.9386401176452637\n",
      "Epoch 121 | Loss: 1.9701696634292603 | Val Loss: 0.9465221166610718\n",
      "Epoch 122 | Loss: 1.9114311933517456 | Val Loss: 0.9583413004875183\n",
      "Epoch 123 | Loss: 1.993638038635254 | Val Loss: 0.8916701674461365\n",
      "Epoch 124 | Loss: 1.9240069389343262 | Val Loss: 0.9145199060440063\n",
      "Epoch 125 | Loss: 1.8911988735198975 | Val Loss: 0.9859120845794678\n",
      "Epoch 126 | Loss: 1.901425838470459 | Val Loss: 0.9321547150611877\n",
      "Epoch 127 | Loss: 1.8802073001861572 | Val Loss: 0.9502154588699341\n",
      "Epoch 128 | Loss: 1.8779916763305664 | Val Loss: 0.9490582942962646\n",
      "Epoch 129 | Loss: 1.9213510751724243 | Val Loss: 0.9331166744232178\n",
      "Epoch 130 | Loss: 1.92902410030365 | Val Loss: 0.9419035911560059\n",
      "Epoch 131 | Loss: 1.9395571947097778 | Val Loss: 0.9665908217430115\n",
      "Epoch 132 | Loss: 1.9683964252471924 | Val Loss: 0.9146502017974854\n",
      "Epoch 133 | Loss: 1.9355641603469849 | Val Loss: 0.9521224498748779\n",
      "Epoch 134 | Loss: 1.930284857749939 | Val Loss: 0.9074622988700867\n",
      "Epoch 135 | Loss: 1.9537163972854614 | Val Loss: 0.9493985176086426\n",
      "Epoch 136 | Loss: 1.9217946529388428 | Val Loss: 0.9395147562026978\n",
      "Epoch 137 | Loss: 1.9703096151351929 | Val Loss: 0.9197187423706055\n",
      "Epoch 138 | Loss: 1.9743856191635132 | Val Loss: 0.9310265183448792\n",
      "Epoch 139 | Loss: 1.9356467723846436 | Val Loss: 0.9288933873176575\n",
      "Epoch 140 | Loss: 1.9445446729660034 | Val Loss: 0.9250319004058838\n",
      "Epoch 141 | Loss: 1.9763994216918945 | Val Loss: 0.9464027285575867\n",
      "Epoch 142 | Loss: 1.9368879795074463 | Val Loss: 0.9728774428367615\n",
      "Epoch 143 | Loss: 1.919254183769226 | Val Loss: 0.9266137480735779\n",
      "Epoch 144 | Loss: 1.9763717651367188 | Val Loss: 0.9289295077323914\n",
      "Epoch 145 | Loss: 1.9299801588058472 | Val Loss: 0.9297049641609192\n",
      "Epoch 146 | Loss: 1.9220614433288574 | Val Loss: 0.962325394153595\n",
      "Epoch 147 | Loss: 1.9998750686645508 | Val Loss: 0.9211286902427673\n",
      "Epoch 148 | Loss: 1.9358620643615723 | Val Loss: 0.9240432381629944\n",
      "Epoch 149 | Loss: 1.9407213926315308 | Val Loss: 0.9243780970573425\n",
      "Epoch 150 | Loss: 1.9559719562530518 | Val Loss: 0.9129452705383301\n",
      "Epoch 151 | Loss: 1.9241586923599243 | Val Loss: 0.9166291356086731\n",
      "Epoch 152 | Loss: 1.985492467880249 | Val Loss: 0.9355757236480713\n",
      "Epoch 153 | Loss: 1.9326770305633545 | Val Loss: 0.9686839580535889\n",
      "Epoch 154 | Loss: 1.9382256269454956 | Val Loss: 0.9197789430618286\n",
      "Epoch 155 | Loss: 1.9485023021697998 | Val Loss: 0.9261050224304199\n",
      "Epoch 156 | Loss: 1.877027988433838 | Val Loss: 0.95367431640625\n",
      "Epoch 157 | Loss: 1.9050899744033813 | Val Loss: 0.9263577461242676\n",
      "Epoch 158 | Loss: 1.9802935123443604 | Val Loss: 0.9487694501876831\n",
      "Epoch 159 | Loss: 1.957038402557373 | Val Loss: 0.938126802444458\n",
      "Epoch 160 | Loss: 1.9466198682785034 | Val Loss: 0.9230692386627197\n",
      "Epoch 161 | Loss: 1.9220234155654907 | Val Loss: 0.9592231512069702\n",
      "Epoch 162 | Loss: 1.9171799421310425 | Val Loss: 0.9543055295944214\n",
      "Epoch 163 | Loss: 1.8788084983825684 | Val Loss: 0.9199079871177673\n",
      "Epoch 164 | Loss: 1.936362624168396 | Val Loss: 0.914198637008667\n",
      "Epoch 165 | Loss: 1.920682668685913 | Val Loss: 0.9224667549133301\n",
      "Epoch 166 | Loss: 1.9472870826721191 | Val Loss: 0.9376266002655029\n",
      "Epoch 167 | Loss: 1.9171760082244873 | Val Loss: 0.9194795489311218\n",
      "Epoch 168 | Loss: 1.9392728805541992 | Val Loss: 0.9393545389175415\n",
      "Epoch 169 | Loss: 1.9199687242507935 | Val Loss: 0.9022619128227234\n",
      "Epoch 170 | Loss: 1.9058589935302734 | Val Loss: 0.8864355683326721\n",
      "Epoch 171 | Loss: 1.9289138317108154 | Val Loss: 0.9168595671653748\n",
      "Epoch 172 | Loss: 1.957826018333435 | Val Loss: 0.9700509309768677\n",
      "Epoch 173 | Loss: 1.9328052997589111 | Val Loss: 0.9232990741729736\n",
      "Epoch 174 | Loss: 1.9184516668319702 | Val Loss: 0.9222609996795654\n",
      "Epoch 175 | Loss: 1.974897027015686 | Val Loss: 0.92978835105896\n",
      "Epoch 176 | Loss: 1.939090609550476 | Val Loss: 0.950535774230957\n",
      "Epoch 177 | Loss: 1.9478265047073364 | Val Loss: 0.9282610416412354\n",
      "Epoch 178 | Loss: 1.9946285486221313 | Val Loss: 0.9219102263450623\n",
      "Epoch 179 | Loss: 1.9357534646987915 | Val Loss: 0.9660532474517822\n",
      "Epoch 180 | Loss: 1.9663269519805908 | Val Loss: 0.9458419680595398\n",
      "Epoch 181 | Loss: 1.9623386859893799 | Val Loss: 1.030510663986206\n",
      "Epoch 182 | Loss: 1.9677643775939941 | Val Loss: 0.9427106976509094\n",
      "Epoch 183 | Loss: 1.9611619710922241 | Val Loss: 0.9683718681335449\n",
      "Epoch 184 | Loss: 1.9532852172851562 | Val Loss: 0.9216703772544861\n",
      "Epoch 185 | Loss: 1.9317342042922974 | Val Loss: 0.9133445024490356\n",
      "Epoch 186 | Loss: 1.9322153329849243 | Val Loss: 0.9039396643638611\n",
      "Epoch 187 | Loss: 1.9363486766815186 | Val Loss: 0.9229933619499207\n",
      "Epoch 188 | Loss: 1.9662412405014038 | Val Loss: 0.9267227649688721\n",
      "Epoch 189 | Loss: 1.9124525785446167 | Val Loss: 0.9487545490264893\n",
      "Epoch 190 | Loss: 1.891653060913086 | Val Loss: 0.9460681676864624\n",
      "Epoch 191 | Loss: 1.929903268814087 | Val Loss: 0.9368841052055359\n",
      "Epoch 192 | Loss: 1.9414042234420776 | Val Loss: 0.9821181297302246\n",
      "Epoch 193 | Loss: 1.9196282625198364 | Val Loss: 0.9374350309371948\n",
      "Epoch 194 | Loss: 1.9441310167312622 | Val Loss: 0.9311048984527588\n",
      "Epoch 195 | Loss: 1.951188087463379 | Val Loss: 0.9845030903816223\n",
      "Epoch 196 | Loss: 1.9101877212524414 | Val Loss: 0.9355193972587585\n",
      "Epoch 197 | Loss: 1.900054931640625 | Val Loss: 0.9582532048225403\n",
      "Epoch 198 | Loss: 1.9490346908569336 | Val Loss: 0.9592550992965698\n",
      "Epoch 199 | Loss: 1.933622121810913 | Val Loss: 0.945553183555603\n",
      "Epoch 200 | Loss: 1.9181175231933594 | Val Loss: 0.9422903656959534\n",
      "Epoch 201 | Loss: 1.9484080076217651 | Val Loss: 0.9403742551803589\n",
      "Epoch 202 | Loss: 1.9325863122940063 | Val Loss: 0.9087992310523987\n",
      "Epoch 203 | Loss: 1.8896621465682983 | Val Loss: 0.9635643362998962\n",
      "Epoch 204 | Loss: 1.9761428833007812 | Val Loss: 0.984183669090271\n",
      "Epoch 205 | Loss: 1.9325079917907715 | Val Loss: 0.9396162629127502\n",
      "Epoch 206 | Loss: 1.944076418876648 | Val Loss: 0.9102539420127869\n",
      "Epoch 207 | Loss: 1.9248460531234741 | Val Loss: 0.9442945122718811\n",
      "Epoch 208 | Loss: 1.9417634010314941 | Val Loss: 0.9392588138580322\n",
      "Epoch 209 | Loss: 1.9644343852996826 | Val Loss: 0.9091571569442749\n",
      "Epoch 210 | Loss: 1.9620487689971924 | Val Loss: 0.956660270690918\n",
      "Epoch 211 | Loss: 1.942837119102478 | Val Loss: 0.9452853202819824\n",
      "Epoch 212 | Loss: 1.9055182933807373 | Val Loss: 0.9291885495185852\n",
      "Epoch 213 | Loss: 1.9444704055786133 | Val Loss: 0.952125608921051\n",
      "Epoch 214 | Loss: 1.936790108680725 | Val Loss: 0.9215031862258911\n",
      "Epoch 215 | Loss: 1.9815977811813354 | Val Loss: 0.9414542317390442\n",
      "Epoch 216 | Loss: 1.9400901794433594 | Val Loss: 0.9478073120117188\n",
      "Epoch 217 | Loss: 1.9298993349075317 | Val Loss: 0.9377820491790771\n",
      "Epoch 218 | Loss: 1.8883705139160156 | Val Loss: 0.9378010630607605\n",
      "Epoch 219 | Loss: 1.955872893333435 | Val Loss: 0.9798266291618347\n",
      "Epoch 220 | Loss: 1.907370686531067 | Val Loss: 0.9540556073188782\n",
      "Epoch 221 | Loss: 1.8616466522216797 | Val Loss: 0.9715713858604431\n",
      "Epoch 222 | Loss: 1.981382131576538 | Val Loss: 0.9085899591445923\n",
      "Epoch 223 | Loss: 1.9020698070526123 | Val Loss: 0.9366892576217651\n",
      "Epoch 224 | Loss: 1.9241695404052734 | Val Loss: 0.965659499168396\n",
      "Epoch 225 | Loss: 1.9724994897842407 | Val Loss: 0.9556640982627869\n",
      "Epoch 226 | Loss: 1.9127700328826904 | Val Loss: 0.9275378584861755\n",
      "Epoch 227 | Loss: 1.9467710256576538 | Val Loss: 0.9249373078346252\n",
      "Epoch 228 | Loss: 1.9429914951324463 | Val Loss: 0.9358529448509216\n",
      "Epoch 229 | Loss: 1.909773349761963 | Val Loss: 0.9297878742218018\n",
      "Epoch 230 | Loss: 1.9281905889511108 | Val Loss: 0.9293455481529236\n",
      "Epoch 231 | Loss: 1.9162530899047852 | Val Loss: 0.9147720336914062\n",
      "Epoch 232 | Loss: 1.9364088773727417 | Val Loss: 0.9014238715171814\n",
      "Epoch 233 | Loss: 1.9282885789871216 | Val Loss: 0.946830153465271\n",
      "Epoch 234 | Loss: 1.9228399991989136 | Val Loss: 0.9339133501052856\n",
      "Epoch 235 | Loss: 1.9476958513259888 | Val Loss: 0.9323750734329224\n",
      "Epoch 236 | Loss: 1.907051920890808 | Val Loss: 0.8969095945358276\n",
      "Epoch 237 | Loss: 1.9505314826965332 | Val Loss: 0.9481844305992126\n",
      "Epoch 238 | Loss: 1.942043662071228 | Val Loss: 0.9216815829277039\n",
      "Epoch 239 | Loss: 1.8938186168670654 | Val Loss: 0.9447102546691895\n",
      "Epoch 240 | Loss: 1.9229315519332886 | Val Loss: 0.8939487338066101\n",
      "Epoch 241 | Loss: 1.9351341724395752 | Val Loss: 0.92685467004776\n",
      "Epoch 242 | Loss: 1.9012130498886108 | Val Loss: 0.9384986758232117\n",
      "Epoch 243 | Loss: 1.9063259363174438 | Val Loss: 0.9314205646514893\n",
      "Epoch 244 | Loss: 1.9456678628921509 | Val Loss: 0.9469330906867981\n",
      "Epoch 245 | Loss: 1.944253921508789 | Val Loss: 0.9361451268196106\n",
      "Epoch 246 | Loss: 1.9846404790878296 | Val Loss: 0.9526313543319702\n",
      "Epoch 247 | Loss: 1.9439911842346191 | Val Loss: 0.927177369594574\n",
      "Epoch 248 | Loss: 1.907692790031433 | Val Loss: 0.9555782079696655\n",
      "Epoch 249 | Loss: 1.9593621492385864 | Val Loss: 0.9002950191497803\n",
      "Epoch 250 | Loss: 1.938886284828186 | Val Loss: 0.9493893384933472\n",
      "Epoch 251 | Loss: 1.9499038457870483 | Val Loss: 0.9581222534179688\n",
      "Epoch 252 | Loss: 1.9344667196273804 | Val Loss: 0.9528923630714417\n",
      "Epoch 253 | Loss: 1.9924737215042114 | Val Loss: 0.9235714077949524\n",
      "Epoch 254 | Loss: 1.9280617237091064 | Val Loss: 0.9283280968666077\n",
      "Epoch 255 | Loss: 1.897902250289917 | Val Loss: 0.9169758558273315\n",
      "Epoch 256 | Loss: 2.036954641342163 | Val Loss: 0.9225334525108337\n",
      "Epoch 257 | Loss: 1.9012274742126465 | Val Loss: 0.956917405128479\n",
      "Epoch 258 | Loss: 1.945975661277771 | Val Loss: 0.9403325915336609\n",
      "Epoch 259 | Loss: 1.9524402618408203 | Val Loss: 0.9305036664009094\n",
      "Epoch 260 | Loss: 1.9652472734451294 | Val Loss: 0.9226434826850891\n",
      "Epoch 261 | Loss: 1.9238518476486206 | Val Loss: 0.8949021697044373\n",
      "Epoch 262 | Loss: 1.912515640258789 | Val Loss: 0.9282364249229431\n",
      "Epoch 263 | Loss: 1.9335200786590576 | Val Loss: 0.9425451159477234\n",
      "Epoch 264 | Loss: 1.9344632625579834 | Val Loss: 0.9573473334312439\n",
      "Epoch 265 | Loss: 1.8749620914459229 | Val Loss: 0.9422163367271423\n",
      "Epoch 266 | Loss: 1.9156264066696167 | Val Loss: 0.9199983477592468\n",
      "Epoch 267 | Loss: 1.9207780361175537 | Val Loss: 0.9112726449966431\n",
      "Epoch 268 | Loss: 1.9261215925216675 | Val Loss: 0.9799466133117676\n",
      "Epoch 269 | Loss: 1.945149540901184 | Val Loss: 0.9424535036087036\n",
      "Epoch 270 | Loss: 1.9473875761032104 | Val Loss: 1.050681233406067\n",
      "Epoch 271 | Loss: 1.8901033401489258 | Val Loss: 0.9384114742279053\n",
      "Epoch 272 | Loss: 1.9799367189407349 | Val Loss: 0.9487165808677673\n",
      "Epoch 273 | Loss: 1.9378719329833984 | Val Loss: 0.9283810257911682\n",
      "Epoch 274 | Loss: 1.8837766647338867 | Val Loss: 0.9550917148590088\n",
      "Epoch 275 | Loss: 1.9296866655349731 | Val Loss: 0.9192877411842346\n",
      "Epoch 276 | Loss: 1.9861630201339722 | Val Loss: 0.9872164726257324\n",
      "Epoch 277 | Loss: 1.912674069404602 | Val Loss: 0.959631085395813\n",
      "Epoch 278 | Loss: 1.9757013320922852 | Val Loss: 0.9535773396492004\n",
      "Epoch 279 | Loss: 1.9521757364273071 | Val Loss: 0.9631958603858948\n",
      "Epoch 280 | Loss: 1.9032546281814575 | Val Loss: 0.9234755039215088\n",
      "Epoch 281 | Loss: 1.942273736000061 | Val Loss: 0.9138632416725159\n",
      "Epoch 282 | Loss: 1.9247134923934937 | Val Loss: 0.9267043471336365\n",
      "Epoch 283 | Loss: 1.9281259775161743 | Val Loss: 0.9087711572647095\n",
      "Epoch 284 | Loss: 1.891829252243042 | Val Loss: 0.9220801591873169\n",
      "Epoch 285 | Loss: 1.9438586235046387 | Val Loss: 0.9171934127807617\n",
      "Epoch 286 | Loss: 1.9243204593658447 | Val Loss: 0.922868013381958\n",
      "Epoch 287 | Loss: 1.987125277519226 | Val Loss: 0.904060423374176\n",
      "Epoch 288 | Loss: 1.931203007698059 | Val Loss: 0.9424890279769897\n",
      "Epoch 289 | Loss: 1.9515362977981567 | Val Loss: 0.9501763582229614\n",
      "Epoch 290 | Loss: 1.966886281967163 | Val Loss: 0.9690719246864319\n",
      "Epoch 291 | Loss: 1.917117953300476 | Val Loss: 0.9115109443664551\n",
      "Epoch 292 | Loss: 1.9214118719100952 | Val Loss: 0.9239928722381592\n",
      "Epoch 293 | Loss: 1.9411894083023071 | Val Loss: 0.9431445002555847\n",
      "Epoch 294 | Loss: 1.9319257736206055 | Val Loss: 0.9362626671791077\n",
      "Epoch 295 | Loss: 1.9424004554748535 | Val Loss: 0.9540632367134094\n",
      "Epoch 296 | Loss: 1.9516180753707886 | Val Loss: 0.9363879561424255\n",
      "Epoch 297 | Loss: 1.9298731088638306 | Val Loss: 0.9305453300476074\n",
      "Epoch 298 | Loss: 1.9002184867858887 | Val Loss: 0.9349647760391235\n",
      "Epoch 299 | Loss: 1.9410667419433594 | Val Loss: 0.930321991443634\n"
     ]
    }
   ],
   "source": [
    "train_loss, val_loss = fit(300, model, train_loader, val_loader, criterion, optimizer)"
   ],
   "metadata": {
    "collapsed": false,
    "ExecuteTime": {
     "end_time": "2023-09-06T02:42:24.126411500Z",
     "start_time": "2023-09-05T21:41:20.203779800Z"
    }
   },
   "id": "bdfbc7e910c52e86"
  },
  {
   "cell_type": "code",
   "execution_count": 421,
   "outputs": [
    {
     "data": {
      "text/plain": "<matplotlib.legend.Legend at 0x18a2df01d10>"
     },
     "execution_count": 421,
     "metadata": {},
     "output_type": "execute_result"
    },
    {
     "data": {
      "text/plain": "<Figure size 640x480 with 1 Axes>",
      "image/png": "[encoded data removed]"
     },
     "metadata": {},
     "output_type": "display_data"
    }
   ],
   "source": [
    "plt.plot(train_loss, label=\"train_loss\")\n",
    "plt.plot(val_loss, label=\"test_loss\")\n",
    "plt.legend()"
   ],
   "metadata": {
    "collapsed": false,
    "ExecuteTime": {
     "end_time": "2023-09-06T05:38:33.570810200Z",
     "start_time": "2023-09-06T05:38:33.474636300Z"
    }
   },
   "id": "fe7e938a39751182"
  },
  {
   "cell_type": "code",
   "execution_count": 459,
   "outputs": [],
   "source": [
    "torch.save(model.state_dict(), \"./models/01_pspnet_pascalvoc_8.pth\")"
   ],
   "metadata": {
    "collapsed": false,
    "ExecuteTime": {
     "end_time": "2023-09-06T08:57:59.798952500Z",
     "start_time": "2023-09-06T08:57:53.473039200Z"
    }
   },
   "id": "5e687195645061b"
  },
  {
   "cell_type": "code",
   "execution_count": 251,
   "outputs": [],
   "source": [
    "def predict_image_mask(model, image):\n",
    "    model.eval()\n",
    "    model.to(device)\n",
    "    image = image.to(device)\n",
    "    with torch.no_grad():\n",
    "        image = image.unsqueeze(0)\n",
    "        output, _ = model(image)\n",
    "        masked = torch.argmax(output, dim=1)\n",
    "        masked = masked.cpu().squeeze(0)\n",
    "    return masked"
   ],
   "metadata": {
    "collapsed": false,
    "ExecuteTime": {
     "end_time": "2023-09-04T18:03:00.287446200Z",
     "start_time": "2023-09-04T18:03:00.281512100Z"
    }
   },
   "id": "bff6b48fef429591"
  },
  {
   "cell_type": "code",
   "execution_count": 1,
   "outputs": [
    {
     "ename": "NameError",
     "evalue": "name 'val_set' is not defined",
     "output_type": "error",
     "traceback": [
      "\u001B[1;31m---------------------------------------------------------------------------\u001B[0m",
      "\u001B[1;31mNameError\u001B[0m                                 Traceback (most recent call last)",
      "Cell \u001B[1;32mIn[1], line 1\u001B[0m\n\u001B[1;32m----> 1\u001B[0m image, mask \u001B[38;5;241m=\u001B[39m \u001B[43mval_set\u001B[49m[\u001B[38;5;241m43\u001B[39m]\n\u001B[0;32m      2\u001B[0m masked \u001B[38;5;241m=\u001B[39m torch\u001B[38;5;241m.\u001B[39margmax(mask, dim\u001B[38;5;241m=\u001B[39m\u001B[38;5;241m0\u001B[39m)\n\u001B[0;32m      3\u001B[0m pred_mask \u001B[38;5;241m=\u001B[39m predict_image_mask(model, image)\n",
      "\u001B[1;31mNameError\u001B[0m: name 'val_set' is not defined"
     ]
    }
   ],
   "source": [
    "image, mask = val_set[43]\n",
    "masked = torch.argmax(mask, dim=0)\n",
    "#pred_mask = predict_image_mask(model, image)\n",
    "\n",
    "fig, (ax1, ax2, ax3) = plt.subplots(1,3, figsize=(20,10))\n",
    "ax1.imshow(T.ToPILImage()(image))\n",
    "ax1.set_title('Picture')\n",
    "\n",
    "ax2.imshow(mask)\n",
    "ax2.set_title('Ground truth')\n",
    "ax2.set_axis_off()\n",
    "\n",
    "#ax3.imshow(pred_mask)\n",
    "#ax3.set_title('PSPNet')\n",
    "#ax3.set_axis_off()\n",
    "\n",
    "torch.unique(mask)"
   ],
   "metadata": {
    "collapsed": false,
    "ExecuteTime": {
     "end_time": "2023-09-12T16:26:08.039701Z",
     "start_time": "2023-09-12T16:26:07.903859400Z"
    }
   },
   "id": "30190485c77ae8e6"
  }
 ],
 "metadata": {
  "kernelspec": {
   "display_name": "Python 3",
   "language": "python",
   "name": "python3"
  },
  "language_info": {
   "codemirror_mode": {
    "name": "ipython",
    "version": 2
   },
   "file_extension": ".py",
   "mimetype": "text/x-python",
   "name": "python",
   "nbconvert_exporter": "python",
   "pygments_lexer": "ipython2",
   "version": "2.7.6"
  }
 },
 "nbformat": 4,
 "nbformat_minor": 5
}
