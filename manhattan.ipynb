{
 "cells": [
  {
   "cell_type": "code",
   "execution_count": 28,
   "outputs": [],
   "source": [
    "import torchvision.transforms as transforms\n",
    "\n",
    "data_transform = transforms.Compose([transforms.Resize((256, 256)), transforms.ToTensor()])"
   ],
   "metadata": {
    "collapsed": false,
    "ExecuteTime": {
     "end_time": "2023-08-27T11:44:03.917256100Z",
     "start_time": "2023-08-27T11:44:03.897086300Z"
    }
   },
   "id": "40f5e12d90480ef"
  },
  {
   "cell_type": "code",
   "execution_count": 29,
   "outputs": [
    {
     "name": "stdout",
     "output_type": "stream",
     "text": [
      "Using downloaded and verified file: ./data\\VOCtrainval_11-May-2012.tar\n",
      "Extracting ./data\\VOCtrainval_11-May-2012.tar to ./data\n",
      "Using downloaded and verified file: ./data\\VOCtrainval_11-May-2012.tar\n",
      "Extracting ./data\\VOCtrainval_11-May-2012.tar to ./data\n"
     ]
    }
   ],
   "source": [
    "from torchvision import datasets\n",
    "\n",
    "train_data = datasets.VOCSegmentation(root=\"./data\",\n",
    "                                      year=\"2012\",\n",
    "                                      image_set=\"train\",\n",
    "                                      download=\"true\",\n",
    "                                      transform=data_transform,\n",
    "                                      target_transform=data_transform)\n",
    "\n",
    "test_data = datasets.VOCSegmentation(root=\"./data\",\n",
    "                                     year=\"2012\",\n",
    "                                     image_set=\"val\",\n",
    "                                     download=\"true\",\n",
    "                                     transform=data_transform,\n",
    "                                     target_transform=data_transform)\n",
    "\n",
    "viz_data = datasets.VOCSegmentation(root=\"./data\", year=\"2012\", image_set=\"train\")"
   ],
   "metadata": {
    "collapsed": false,
    "ExecuteTime": {
     "end_time": "2023-08-27T11:44:48.499383500Z",
     "start_time": "2023-08-27T11:44:05.459771800Z"
    }
   },
   "id": "13d9279b6c994102"
  },
  {
   "cell_type": "code",
   "execution_count": 30,
   "outputs": [
    {
     "name": "stdout",
     "output_type": "stream",
     "text": [
      "train_dataloader: 92 * 16 images\n",
      "test_dataloader: 91 * 16 images\n"
     ]
    }
   ],
   "source": [
    "from torch.utils.data import DataLoader\n",
    "\n",
    "BATCH_SIZE = 16\n",
    "\n",
    "train_dataloader = DataLoader(dataset=train_data, batch_size=BATCH_SIZE, shuffle=False)\n",
    "test_dataloader = DataLoader(dataset=test_data, batch_size=BATCH_SIZE, shuffle=False)\n",
    "\n",
    "print(f\"train_dataloader: {len(train_dataloader)} * {BATCH_SIZE} images\")\n",
    "print(f\"test_dataloader: {len(test_dataloader)} * {BATCH_SIZE} images\")"
   ],
   "metadata": {
    "collapsed": false,
    "ExecuteTime": {
     "end_time": "2023-08-27T11:44:51.658601200Z",
     "start_time": "2023-08-27T11:44:51.638332600Z"
    }
   },
   "id": "43b89a384fa7337a"
  },
  {
   "cell_type": "code",
   "execution_count": 110,
   "id": "initial_id",
   "metadata": {
    "collapsed": true,
    "ExecuteTime": {
     "end_time": "2023-08-27T12:35:50.345244900Z",
     "start_time": "2023-08-27T12:35:50.153195700Z"
    }
   },
   "outputs": [
    {
     "data": {
      "text/plain": "==========================================================================================\nLayer (type:depth-idx)                   Output Shape              Param #\n==========================================================================================\nResNet                                   [16, 1000]                --\n├─Conv2d: 1-1                            [16, 64, 128, 128]        9,408\n├─BatchNorm2d: 1-2                       [16, 64, 128, 128]        128\n├─ReLU: 1-3                              [16, 64, 128, 128]        --\n├─MaxPool2d: 1-4                         [16, 64, 64, 64]          --\n├─Sequential: 1-5                        [16, 64, 64, 64]          --\n│    └─BasicBlock: 2-1                   [16, 64, 64, 64]          --\n│    │    └─Conv2d: 3-1                  [16, 64, 64, 64]          36,864\n│    │    └─BatchNorm2d: 3-2             [16, 64, 64, 64]          128\n│    │    └─ReLU: 3-3                    [16, 64, 64, 64]          --\n│    │    └─Conv2d: 3-4                  [16, 64, 64, 64]          36,864\n│    │    └─BatchNorm2d: 3-5             [16, 64, 64, 64]          128\n│    │    └─ReLU: 3-6                    [16, 64, 64, 64]          --\n│    └─BasicBlock: 2-2                   [16, 64, 64, 64]          --\n│    │    └─Conv2d: 3-7                  [16, 64, 64, 64]          36,864\n│    │    └─BatchNorm2d: 3-8             [16, 64, 64, 64]          128\n│    │    └─ReLU: 3-9                    [16, 64, 64, 64]          --\n│    │    └─Conv2d: 3-10                 [16, 64, 64, 64]          36,864\n│    │    └─BatchNorm2d: 3-11            [16, 64, 64, 64]          128\n│    │    └─ReLU: 3-12                   [16, 64, 64, 64]          --\n├─Sequential: 1-6                        [16, 128, 32, 32]         --\n│    └─BasicBlock: 2-3                   [16, 128, 32, 32]         --\n│    │    └─Conv2d: 3-13                 [16, 128, 32, 32]         73,728\n│    │    └─BatchNorm2d: 3-14            [16, 128, 32, 32]         256\n│    │    └─ReLU: 3-15                   [16, 128, 32, 32]         --\n│    │    └─Conv2d: 3-16                 [16, 128, 32, 32]         147,456\n│    │    └─BatchNorm2d: 3-17            [16, 128, 32, 32]         256\n│    │    └─Sequential: 3-18             [16, 128, 32, 32]         8,448\n│    │    └─ReLU: 3-19                   [16, 128, 32, 32]         --\n│    └─BasicBlock: 2-4                   [16, 128, 32, 32]         --\n│    │    └─Conv2d: 3-20                 [16, 128, 32, 32]         147,456\n│    │    └─BatchNorm2d: 3-21            [16, 128, 32, 32]         256\n│    │    └─ReLU: 3-22                   [16, 128, 32, 32]         --\n│    │    └─Conv2d: 3-23                 [16, 128, 32, 32]         147,456\n│    │    └─BatchNorm2d: 3-24            [16, 128, 32, 32]         256\n│    │    └─ReLU: 3-25                   [16, 128, 32, 32]         --\n├─Sequential: 1-7                        [16, 256, 16, 16]         --\n│    └─BasicBlock: 2-5                   [16, 256, 16, 16]         --\n│    │    └─Conv2d: 3-26                 [16, 256, 16, 16]         294,912\n│    │    └─BatchNorm2d: 3-27            [16, 256, 16, 16]         512\n│    │    └─ReLU: 3-28                   [16, 256, 16, 16]         --\n│    │    └─Conv2d: 3-29                 [16, 256, 16, 16]         589,824\n│    │    └─BatchNorm2d: 3-30            [16, 256, 16, 16]         512\n│    │    └─Sequential: 3-31             [16, 256, 16, 16]         33,280\n│    │    └─ReLU: 3-32                   [16, 256, 16, 16]         --\n│    └─BasicBlock: 2-6                   [16, 256, 16, 16]         --\n│    │    └─Conv2d: 3-33                 [16, 256, 16, 16]         589,824\n│    │    └─BatchNorm2d: 3-34            [16, 256, 16, 16]         512\n│    │    └─ReLU: 3-35                   [16, 256, 16, 16]         --\n│    │    └─Conv2d: 3-36                 [16, 256, 16, 16]         589,824\n│    │    └─BatchNorm2d: 3-37            [16, 256, 16, 16]         512\n│    │    └─ReLU: 3-38                   [16, 256, 16, 16]         --\n├─Sequential: 1-8                        [16, 512, 8, 8]           --\n│    └─BasicBlock: 2-7                   [16, 512, 8, 8]           --\n│    │    └─Conv2d: 3-39                 [16, 512, 8, 8]           1,179,648\n│    │    └─BatchNorm2d: 3-40            [16, 512, 8, 8]           1,024\n│    │    └─ReLU: 3-41                   [16, 512, 8, 8]           --\n│    │    └─Conv2d: 3-42                 [16, 512, 8, 8]           2,359,296\n│    │    └─BatchNorm2d: 3-43            [16, 512, 8, 8]           1,024\n│    │    └─Sequential: 3-44             [16, 512, 8, 8]           132,096\n│    │    └─ReLU: 3-45                   [16, 512, 8, 8]           --\n│    └─BasicBlock: 2-8                   [16, 512, 8, 8]           --\n│    │    └─Conv2d: 3-46                 [16, 512, 8, 8]           2,359,296\n│    │    └─BatchNorm2d: 3-47            [16, 512, 8, 8]           1,024\n│    │    └─ReLU: 3-48                   [16, 512, 8, 8]           --\n│    │    └─Conv2d: 3-49                 [16, 512, 8, 8]           2,359,296\n│    │    └─BatchNorm2d: 3-50            [16, 512, 8, 8]           1,024\n│    │    └─ReLU: 3-51                   [16, 512, 8, 8]           --\n├─AdaptiveAvgPool2d: 1-9                 [16, 512, 1, 1]           --\n├─Linear: 1-10                           [16, 1000]                513,000\n==========================================================================================\nTotal params: 11,689,512\nTrainable params: 11,689,512\nNon-trainable params: 0\nTotal mult-adds (Units.GIGABYTES): 37.91\n==========================================================================================\nInput size (MB): 12.58\nForward/backward pass size (MB): 830.60\nParams size (MB): 46.76\nEstimated Total Size (MB): 889.94\n=========================================================================================="
     },
     "execution_count": 110,
     "metadata": {},
     "output_type": "execute_result"
    }
   ],
   "source": [
    "## Structure of Resnet18\n",
    "from torchvision import models\n",
    "from torchinfo import summary\n",
    "\n",
    "resnet = models.resnet18(pretrained=True)\n",
    "batch_size = 16\n",
    "\n",
    "summary(\n",
    "    resnet,\n",
    "    input_size=(batch_size, 3, 256, 256),\n",
    "    col_names=[\"output_size\", \"num_params\"],\n",
    ")"
   ]
  },
  {
   "cell_type": "code",
   "execution_count": 5,
   "outputs": [],
   "source": [
    "import torch\n",
    "from torch import nn\n",
    "import torch.nn.functional as F\n",
    "\n",
    "class conv2DBatchNorm(nn.Module):\n",
    "    def __init__(self, in_channels, out_channels, kernel_size,\n",
    "                 stride, padding, dilation, bias, activation=False):\n",
    "        super().__init__()\n",
    "        self.conv = nn.Conv2d(in_channels, out_channels,\n",
    "                              kernel_size, stride,\n",
    "                              padding, dilation, bias=bias)\n",
    "        self.batchnorm = nn.BatchNorm2d(out_channels)\n",
    "        self.activation = activation\n",
    "        if self.activation:\n",
    "            self.relu = nn.ReLU(inplace=True)\n",
    "\n",
    "    def forward(self, x):\n",
    "        x = self.conv(x)\n",
    "        x = self.batchnorm(x)\n",
    "        if self.activation:\n",
    "            outputs = self.relu(x)\n",
    "        else:\n",
    "            outputs = x\n",
    "\n",
    "        return outputs"
   ],
   "metadata": {
    "collapsed": false,
    "ExecuteTime": {
     "end_time": "2023-08-27T11:35:11.741452500Z",
     "start_time": "2023-08-27T11:35:11.420915800Z"
    }
   },
   "id": "eaebc2b9b79b7719"
  },
  {
   "cell_type": "code",
   "execution_count": 158,
   "outputs": [],
   "source": [
    "import torchvision\n",
    "from torchvision import models\n",
    "\n",
    "class FeatureExtractor(nn.Module):\n",
    "    def __init__(self):\n",
    "        super().__init__()\n",
    "        self.resnet = models.resnet101(weights=torchvision.models.ResNet101_Weights.DEFAULT)\n",
    "\n",
    "    def forward(self, x):\n",
    "        for i in range(7):\n",
    "            x = list(self.resnet.children())[i](x)\n",
    "        encoder_outputs = x\n",
    "        return encoder_outputs"
   ],
   "metadata": {
    "collapsed": false,
    "ExecuteTime": {
     "end_time": "2023-08-27T13:11:23.163089600Z",
     "start_time": "2023-08-27T13:11:23.139004400Z"
    }
   },
   "id": "bcf50c2958f3c3ea"
  },
  {
   "cell_type": "code",
   "execution_count": 172,
   "outputs": [],
   "source": [
    "import torchvision\n",
    "from torchvision import models\n",
    "\n",
    "class CustomResNet101(nn.Module):\n",
    "    def __init__(self):\n",
    "        super().__init__()\n",
    "        self.resnet = models.resnet101(weights=torchvision.models.ResNet101_Weights.DEFAULT)\n",
    "\n",
    "    def forward(self, x):\n",
    "        x = self.resnet.conv1(x)\n",
    "        x = self.resnet.bn1(x)\n",
    "        x = self.resnet.relu(x)\n",
    "        x = self.resnet.maxpool(x)\n",
    "\n",
    "        x = self.resnet.layer1(x)\n",
    "        x = self.resnet.layer2(x)\n",
    "        auxiliary_x = self.resnet.layer3(x)\n",
    "        x = self.resnet.layer4(auxiliary_x)\n",
    "\n",
    "        return x, auxiliary_x"
   ],
   "metadata": {
    "collapsed": false,
    "ExecuteTime": {
     "end_time": "2023-08-27T13:19:05.657230200Z",
     "start_time": "2023-08-27T13:19:05.641591700Z"
    }
   },
   "id": "337f90049382bd35"
  },
  {
   "cell_type": "code",
   "execution_count": 7,
   "outputs": [],
   "source": [
    "class PyramidPooling(nn.Module):\n",
    "    def __init__(self, in_channels, pool_sizes, height, width):\n",
    "        super().__init__()\n",
    "\n",
    "        self.height = height\n",
    "        self.width = width\n",
    "\n",
    "        out_channels = int(in_channels / len(pool_sizes))\n",
    "\n",
    "        ## pool__sizes: [6, 3, 2, 1]\n",
    "        self.avpool_1 = nn.AdaptiveAvgPool2d(output_size=pool_sizes[0])\n",
    "        self.cbr_1 = conv2DBatchNorm(\n",
    "            in_channels, out_channels, kernel_size=1, stride=1,\n",
    "            padding=0, dilation=1, bias=False, activation=True)\n",
    "\n",
    "        self.avpool_2 = nn.AdaptiveAvgPool2d(output_size=pool_sizes[1])\n",
    "        self.cbr_2 = conv2DBatchNorm(\n",
    "            in_channels, out_channels, kernel_size=1, stride=1,\n",
    "            padding=0, dilation=1, bias=False, activation=True)\n",
    "\n",
    "        self.avpool_3 = nn.AdaptiveAvgPool2d(output_size=pool_sizes[2])\n",
    "        self.cbr_3 = conv2DBatchNorm(\n",
    "            in_channels, out_channels, kernel_size=1, stride=1,\n",
    "            padding=0, dilation=1, bias=False, activation=True)\n",
    "\n",
    "        self.avpool_4 = nn.AdaptiveAvgPool2d(output_size=pool_sizes[3])\n",
    "        self.cbr_4 = conv2DBatchNorm(\n",
    "            in_channels, out_channels, kernel_size=1, stride=1,\n",
    "            padding=0, dilation=1, bias=False, activation=True)\n",
    "\n",
    "    def forward(self, x):\n",
    "        out1 = self.cbr_1(self.avpool_1(x))\n",
    "        out1 = F.interpolate(out1, size=(\n",
    "            self.height, self.width), mode='bilinear', align_corners=True)\n",
    "\n",
    "        out2 = self.cbr_2(self.avpool_2(x))\n",
    "        out2 = F.interpolate(out2, size=(\n",
    "            self.height, self.width), mode='bilinear', align_corners=True)\n",
    "\n",
    "        out3 = self.cbr_3(self.avpool_3(x))\n",
    "        out3 = F.interpolate(out3, size=(\n",
    "            self.height, self.width), mode='bilinear', align_corners=True)\n",
    "\n",
    "        out4 = self.cbr_4(self.avpool_4(x))\n",
    "        out4 = F.interpolate(out4, size=(\n",
    "            self.height, self.width), mode='bilinear', align_corners=True)\n",
    "\n",
    "        output = torch.cat([x, out1, out2, out3, out4], dim=1)\n",
    "\n",
    "        return output"
   ],
   "metadata": {
    "collapsed": false,
    "ExecuteTime": {
     "end_time": "2023-08-27T11:35:23.413774900Z",
     "start_time": "2023-08-27T11:35:23.140827600Z"
    }
   },
   "id": "e2319b0d8297d462"
  },
  {
   "cell_type": "code",
   "execution_count": 8,
   "outputs": [],
   "source": [
    "class DecodePSPFeature(nn.Module):\n",
    "    def __init__(self, height, width, n_classes):\n",
    "        super().__init__()\n",
    "\n",
    "        self.height = height\n",
    "        self.width = width\n",
    "\n",
    "        self.cbr = conv2DBatchNorm(\n",
    "            in_channels=256, out_channels=64, kernel_size=3, stride=1,\n",
    "            padding=1, dilation=1,  bias=False, activation=True)\n",
    "        self.dropout = nn.Dropout2d(p=0.1)\n",
    "        self.classification = nn.Conv2d(\n",
    "            in_channels=64, out_channels=n_classes, kernel_size=1,\n",
    "            stride=1, padding=0)\n",
    "\n",
    "    def forward(self, x):\n",
    "        x = self.cbr(x)\n",
    "        x = self.dropout(x)\n",
    "        x = self.classification(x)\n",
    "        output = F.interpolate(\n",
    "            x, size=(self.height, self.width),\n",
    "            mode='bilinear', align_corners=True)\n",
    "\n",
    "        return output"
   ],
   "metadata": {
    "collapsed": false,
    "ExecuteTime": {
     "end_time": "2023-08-27T11:35:31.323254400Z",
     "start_time": "2023-08-27T11:35:31.243144200Z"
    }
   },
   "id": "2fbee493e88ba7af"
  },
  {
   "cell_type": "code",
   "execution_count": 9,
   "outputs": [],
   "source": [
    "class AuxiliaryPSPlayers(nn.Module):\n",
    "    def __init__(self, in_channels, height, width, n_classes):\n",
    "        super().__init__()\n",
    "\n",
    "        self.height = height\n",
    "        self.width = width\n",
    "\n",
    "        self.cbr = conv2DBatchNorm(\n",
    "            in_channels=in_channels, out_channels=64,\n",
    "            kernel_size=3, stride=1, padding=1,\n",
    "            dilation=1, bias=False, activation=True)\n",
    "        self.dropout = nn.Dropout2d(p=0.1)\n",
    "        self.classification = nn.Conv2d(\n",
    "            in_channels=64, out_channels=n_classes,\n",
    "            kernel_size=1, stride=1, padding=0)\n",
    "\n",
    "    def forward(self, x):\n",
    "        x = self.cbr(x)\n",
    "        x = self.dropout(x)\n",
    "        x = self.classification(x)\n",
    "        output = F.interpolate(\n",
    "            x, size=(self.height, self.width),\n",
    "            mode='bilinear', align_corners=True)\n",
    "\n",
    "        return output"
   ],
   "metadata": {
    "collapsed": false,
    "ExecuteTime": {
     "end_time": "2023-08-27T11:35:41.808725300Z",
     "start_time": "2023-08-27T11:35:41.772778300Z"
    }
   },
   "id": "c47b3c0171cf3739"
  },
  {
   "cell_type": "code",
   "execution_count": 170,
   "outputs": [],
   "source": [
    "class PSPNet(nn.Module):\n",
    "    def __init__(self, n_classes):\n",
    "        super().__init__()\n",
    "\n",
    "        full_img_size = 256\n",
    "        feature_map_size = 8\n",
    "\n",
    "        self.feature_extractor = CustomResNet101()\n",
    "        self.pyramid_pooling = PyramidPooling(\n",
    "            in_channels=2048, pool_sizes=[6, 3, 2, 1],\n",
    "            height=feature_map_size, width=feature_map_size)\n",
    "        self.decode_feature = DecodePSPFeature(\n",
    "            height=full_img_size, width=full_img_size,\n",
    "            n_classes=n_classes)\n",
    "        self.aux = AuxiliaryPSPlayers(\n",
    "            in_channels=64, n_classes=n_classes,\n",
    "            height=full_img_size, width=full_img_size)\n",
    "\n",
    "    def forward(self, x):\n",
    "        encoder_outputs = self.feature_extractor(x)\n",
    "        pyramid_outputs = self.pyramid_pooling(encoder_outputs)\n",
    "        #docoder_outputs = self.decode_feature(pyramid_outputs)\n",
    "        return pyramid_outputs"
   ],
   "metadata": {
    "collapsed": false,
    "ExecuteTime": {
     "end_time": "2023-08-27T13:18:48.423230600Z",
     "start_time": "2023-08-27T13:18:48.391391600Z"
    }
   },
   "id": "6e7e950f41abcc56"
  },
  {
   "cell_type": "code",
   "execution_count": 171,
   "outputs": [
    {
     "ename": "NameError",
     "evalue": "name 'CustomResNet101' is not defined",
     "output_type": "error",
     "traceback": [
      "\u001B[1;31m---------------------------------------------------------------------------\u001B[0m",
      "\u001B[1;31mNameError\u001B[0m                                 Traceback (most recent call last)",
      "Cell \u001B[1;32mIn[171], line 1\u001B[0m\n\u001B[1;32m----> 1\u001B[0m model \u001B[38;5;241m=\u001B[39m \u001B[43mPSPNet\u001B[49m\u001B[43m(\u001B[49m\u001B[43mn_classes\u001B[49m\u001B[38;5;241;43m=\u001B[39;49m\u001B[38;5;241;43m4\u001B[39;49m\u001B[43m)\u001B[49m\n\u001B[0;32m      2\u001B[0m \u001B[38;5;28minput\u001B[39m \u001B[38;5;241m=\u001B[39m \u001B[38;5;28mnext\u001B[39m(\u001B[38;5;28miter\u001B[39m(train_dataloader))[\u001B[38;5;241m0\u001B[39m]\n\u001B[0;32m      3\u001B[0m pred \u001B[38;5;241m=\u001B[39m model(\u001B[38;5;28minput\u001B[39m)\n",
      "Cell \u001B[1;32mIn[170], line 8\u001B[0m, in \u001B[0;36mPSPNet.__init__\u001B[1;34m(self, n_classes)\u001B[0m\n\u001B[0;32m      5\u001B[0m full_img_size \u001B[38;5;241m=\u001B[39m \u001B[38;5;241m256\u001B[39m\n\u001B[0;32m      6\u001B[0m feature_map_size \u001B[38;5;241m=\u001B[39m \u001B[38;5;241m8\u001B[39m\n\u001B[1;32m----> 8\u001B[0m \u001B[38;5;28mself\u001B[39m\u001B[38;5;241m.\u001B[39mfeature_extractor \u001B[38;5;241m=\u001B[39m \u001B[43mCustomResNet101\u001B[49m()\n\u001B[0;32m      9\u001B[0m \u001B[38;5;28mself\u001B[39m\u001B[38;5;241m.\u001B[39mpyramid_pooling \u001B[38;5;241m=\u001B[39m PyramidPooling(\n\u001B[0;32m     10\u001B[0m     in_channels\u001B[38;5;241m=\u001B[39m\u001B[38;5;241m2048\u001B[39m, pool_sizes\u001B[38;5;241m=\u001B[39m[\u001B[38;5;241m6\u001B[39m, \u001B[38;5;241m3\u001B[39m, \u001B[38;5;241m2\u001B[39m, \u001B[38;5;241m1\u001B[39m],\n\u001B[0;32m     11\u001B[0m     height\u001B[38;5;241m=\u001B[39mfeature_map_size, width\u001B[38;5;241m=\u001B[39mfeature_map_size)\n\u001B[0;32m     12\u001B[0m \u001B[38;5;28mself\u001B[39m\u001B[38;5;241m.\u001B[39mdecode_feature \u001B[38;5;241m=\u001B[39m DecodePSPFeature(\n\u001B[0;32m     13\u001B[0m     height\u001B[38;5;241m=\u001B[39mfull_img_size, width\u001B[38;5;241m=\u001B[39mfull_img_size,\n\u001B[0;32m     14\u001B[0m     n_classes\u001B[38;5;241m=\u001B[39mn_classes)\n",
      "\u001B[1;31mNameError\u001B[0m: name 'CustomResNet101' is not defined"
     ]
    }
   ],
   "source": [
    "model = PSPNet(n_classes=4)\n",
    "input = next(iter(train_dataloader))[0]\n",
    "pred = model(input)\n",
    "input.shape"
   ],
   "metadata": {
    "collapsed": false,
    "ExecuteTime": {
     "end_time": "2023-08-27T13:18:51.213683300Z",
     "start_time": "2023-08-27T13:18:51.197805Z"
    }
   },
   "id": "85adb0e8ec74b8aa"
  },
  {
   "cell_type": "code",
   "execution_count": 169,
   "outputs": [
    {
     "data": {
      "text/plain": "====================================================================================================\nLayer (type:depth-idx)                             Output Shape              Param #\n====================================================================================================\nPSPNet                                             [16, 4096, 8, 8]          185,096\n├─FeatureExtractor2: 1-1                           [16, 2048, 8, 8]          --\n│    └─ResNet: 2-1                                 --                        2,049,000\n│    │    └─Conv2d: 3-1                            [16, 64, 128, 128]        9,408\n│    │    └─BatchNorm2d: 3-2                       [16, 64, 128, 128]        128\n│    │    └─ReLU: 3-3                              [16, 64, 128, 128]        --\n│    │    └─MaxPool2d: 3-4                         [16, 64, 64, 64]          --\n│    │    └─Sequential: 3-5                        [16, 256, 64, 64]         215,808\n│    │    └─Sequential: 3-6                        [16, 512, 32, 32]         1,219,584\n│    │    └─Sequential: 3-7                        [16, 1024, 16, 16]        26,090,496\n│    │    └─Sequential: 3-8                        [16, 2048, 8, 8]          14,964,736\n├─PyramidPooling: 1-2                              [16, 4096, 8, 8]          --\n│    └─AdaptiveAvgPool2d: 2-2                      [16, 2048, 6, 6]          --\n│    └─conv2DBatchNorm: 2-3                        [16, 512, 6, 6]           --\n│    │    └─Conv2d: 3-9                            [16, 512, 6, 6]           1,048,576\n│    │    └─BatchNorm2d: 3-10                      [16, 512, 6, 6]           1,024\n│    │    └─ReLU: 3-11                             [16, 512, 6, 6]           --\n│    └─AdaptiveAvgPool2d: 2-4                      [16, 2048, 3, 3]          --\n│    └─conv2DBatchNorm: 2-5                        [16, 512, 3, 3]           --\n│    │    └─Conv2d: 3-12                           [16, 512, 3, 3]           1,048,576\n│    │    └─BatchNorm2d: 3-13                      [16, 512, 3, 3]           1,024\n│    │    └─ReLU: 3-14                             [16, 512, 3, 3]           --\n│    └─AdaptiveAvgPool2d: 2-6                      [16, 2048, 2, 2]          --\n│    └─conv2DBatchNorm: 2-7                        [16, 512, 2, 2]           --\n│    │    └─Conv2d: 3-15                           [16, 512, 2, 2]           1,048,576\n│    │    └─BatchNorm2d: 3-16                      [16, 512, 2, 2]           1,024\n│    │    └─ReLU: 3-17                             [16, 512, 2, 2]           --\n│    └─AdaptiveAvgPool2d: 2-8                      [16, 2048, 1, 1]          --\n│    └─conv2DBatchNorm: 2-9                        [16, 512, 1, 1]           --\n│    │    └─Conv2d: 3-18                           [16, 512, 1, 1]           1,048,576\n│    │    └─BatchNorm2d: 3-19                      [16, 512, 1, 1]           1,024\n│    │    └─ReLU: 3-20                             [16, 512, 1, 1]           --\n====================================================================================================\nTotal params: 48,932,656\nTrainable params: 48,932,656\nNon-trainable params: 0\nTotal mult-adds (Units.GIGABYTES): 163.83\n====================================================================================================\nInput size (MB): 12.58\nForward/backward pass size (MB): 5433.98\nParams size (MB): 186.79\nEstimated Total Size (MB): 5633.36\n===================================================================================================="
     },
     "execution_count": 169,
     "metadata": {},
     "output_type": "execute_result"
    }
   ],
   "source": [
    "model = PSPNet(n_classes=4)\n",
    "batch_size = 16\n",
    "\n",
    "summary(\n",
    "    model,\n",
    "    input_size=(batch_size, 3, 256, 256),\n",
    "    col_names=[\"output_size\", \"num_params\"],\n",
    ")"
   ],
   "metadata": {
    "collapsed": false,
    "ExecuteTime": {
     "end_time": "2023-08-27T13:16:30.640269800Z",
     "start_time": "2023-08-27T13:16:29.879179400Z"
    }
   },
   "id": "f229e4c5104c9089"
  }
 ],
 "metadata": {
  "kernelspec": {
   "display_name": "Python 3",
   "language": "python",
   "name": "python3"
  },
  "language_info": {
   "codemirror_mode": {
    "name": "ipython",
    "version": 2
   },
   "file_extension": ".py",
   "mimetype": "text/x-python",
   "name": "python",
   "nbconvert_exporter": "python",
   "pygments_lexer": "ipython2",
   "version": "2.7.6"
  }
 },
 "nbformat": 4,
 "nbformat_minor": 5
}
